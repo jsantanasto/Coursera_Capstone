{
    "cells": [
        {
            "cell_type": "code",
            "execution_count": 8,
            "metadata": {},
            "outputs": [],
            "source": "import pandas as pd\nimport numpy as np\nimport os\nimport requests"
        },
        {
            "cell_type": "code",
            "execution_count": 9,
            "metadata": {},
            "outputs": [
                {
                    "data": {
                        "text/html": "<div>\n<style scoped>\n    .dataframe tbody tr th:only-of-type {\n        vertical-align: middle;\n    }\n\n    .dataframe tbody tr th {\n        vertical-align: top;\n    }\n\n    .dataframe thead th {\n        text-align: right;\n    }\n</style>\n<table border=\"1\" class=\"dataframe\">\n  <thead>\n    <tr style=\"text-align: right;\">\n      <th></th>\n      <th>Very interested</th>\n      <th>Somewhat interested</th>\n      <th>Not interested</th>\n    </tr>\n  </thead>\n  <tbody>\n    <tr>\n      <th>Big Data (Spark / Hadoop)</th>\n      <td>1332</td>\n      <td>729</td>\n      <td>127</td>\n    </tr>\n    <tr>\n      <th>Data Analysis / Statistics</th>\n      <td>1688</td>\n      <td>444</td>\n      <td>60</td>\n    </tr>\n    <tr>\n      <th>Data Journalism</th>\n      <td>429</td>\n      <td>1081</td>\n      <td>610</td>\n    </tr>\n    <tr>\n      <th>Data Visualization</th>\n      <td>1340</td>\n      <td>734</td>\n      <td>102</td>\n    </tr>\n    <tr>\n      <th>Deep Learning</th>\n      <td>1263</td>\n      <td>770</td>\n      <td>136</td>\n    </tr>\n    <tr>\n      <th>Machine Learning</th>\n      <td>1629</td>\n      <td>477</td>\n      <td>74</td>\n    </tr>\n  </tbody>\n</table>\n</div>",
                        "text/plain": "                            Very interested  Somewhat interested  \\\nBig Data (Spark / Hadoop)              1332                  729   \nData Analysis / Statistics             1688                  444   \nData Journalism                         429                 1081   \nData Visualization                     1340                  734   \nDeep Learning                          1263                  770   \nMachine Learning                       1629                  477   \n\n                            Not interested  \nBig Data (Spark / Hadoop)              127  \nData Analysis / Statistics              60  \nData Journalism                        610  \nData Visualization                     102  \nDeep Learning                          136  \nMachine Learning                        74  "
                    },
                    "execution_count": 9,
                    "metadata": {},
                    "output_type": "execute_result"
                }
            ],
            "source": "# The code was removed by Watson Studio for sharing."
        },
        {
            "cell_type": "code",
            "execution_count": 10,
            "metadata": {},
            "outputs": [
                {
                    "data": {
                        "text/html": "<div>\n<style scoped>\n    .dataframe tbody tr th:only-of-type {\n        vertical-align: middle;\n    }\n\n    .dataframe tbody tr th {\n        vertical-align: top;\n    }\n\n    .dataframe thead th {\n        text-align: right;\n    }\n</style>\n<table border=\"1\" class=\"dataframe\">\n  <thead>\n    <tr style=\"text-align: right;\">\n      <th></th>\n      <th>Very interested</th>\n      <th>Somewhat interested</th>\n      <th>Not interested</th>\n    </tr>\n  </thead>\n  <tbody>\n    <tr>\n      <th>Data Analysis / Statistics</th>\n      <td>1688</td>\n      <td>444</td>\n      <td>60</td>\n    </tr>\n    <tr>\n      <th>Machine Learning</th>\n      <td>1629</td>\n      <td>477</td>\n      <td>74</td>\n    </tr>\n    <tr>\n      <th>Data Visualization</th>\n      <td>1340</td>\n      <td>734</td>\n      <td>102</td>\n    </tr>\n    <tr>\n      <th>Big Data (Spark / Hadoop)</th>\n      <td>1332</td>\n      <td>729</td>\n      <td>127</td>\n    </tr>\n    <tr>\n      <th>Deep Learning</th>\n      <td>1263</td>\n      <td>770</td>\n      <td>136</td>\n    </tr>\n    <tr>\n      <th>Data Journalism</th>\n      <td>429</td>\n      <td>1081</td>\n      <td>610</td>\n    </tr>\n  </tbody>\n</table>\n</div>",
                        "text/plain": "                            Very interested  Somewhat interested  \\\nData Analysis / Statistics             1688                  444   \nMachine Learning                       1629                  477   \nData Visualization                     1340                  734   \nBig Data (Spark / Hadoop)              1332                  729   \nDeep Learning                          1263                  770   \nData Journalism                         429                 1081   \n\n                            Not interested  \nData Analysis / Statistics              60  \nMachine Learning                        74  \nData Visualization                     102  \nBig Data (Spark / Hadoop)              127  \nDeep Learning                          136  \nData Journalism                        610  "
                    },
                    "execution_count": 10,
                    "metadata": {},
                    "output_type": "execute_result"
                }
            ],
            "source": "df_data_1.sort_values(by='Very interested', ascending=False)"
        },
        {
            "cell_type": "code",
            "execution_count": 11,
            "metadata": {},
            "outputs": [],
            "source": "df=df_data_1.div(2233).multiply(100)"
        },
        {
            "cell_type": "code",
            "execution_count": 12,
            "metadata": {},
            "outputs": [
                {
                    "data": {
                        "text/html": "<div>\n<style scoped>\n    .dataframe tbody tr th:only-of-type {\n        vertical-align: middle;\n    }\n\n    .dataframe tbody tr th {\n        vertical-align: top;\n    }\n\n    .dataframe thead th {\n        text-align: right;\n    }\n</style>\n<table border=\"1\" class=\"dataframe\">\n  <thead>\n    <tr style=\"text-align: right;\">\n      <th></th>\n      <th>Very interested</th>\n      <th>Somewhat interested</th>\n      <th>Not interested</th>\n    </tr>\n  </thead>\n  <tbody>\n    <tr>\n      <th>Big Data (Spark / Hadoop)</th>\n      <td>59.65</td>\n      <td>32.65</td>\n      <td>5.69</td>\n    </tr>\n    <tr>\n      <th>Data Analysis / Statistics</th>\n      <td>75.59</td>\n      <td>19.88</td>\n      <td>2.69</td>\n    </tr>\n    <tr>\n      <th>Data Journalism</th>\n      <td>19.21</td>\n      <td>48.41</td>\n      <td>27.32</td>\n    </tr>\n    <tr>\n      <th>Data Visualization</th>\n      <td>60.01</td>\n      <td>32.87</td>\n      <td>4.57</td>\n    </tr>\n    <tr>\n      <th>Deep Learning</th>\n      <td>56.56</td>\n      <td>34.48</td>\n      <td>6.09</td>\n    </tr>\n    <tr>\n      <th>Machine Learning</th>\n      <td>72.95</td>\n      <td>21.36</td>\n      <td>3.31</td>\n    </tr>\n  </tbody>\n</table>\n</div>",
                        "text/plain": "                            Very interested  Somewhat interested  \\\nBig Data (Spark / Hadoop)             59.65                32.65   \nData Analysis / Statistics            75.59                19.88   \nData Journalism                       19.21                48.41   \nData Visualization                    60.01                32.87   \nDeep Learning                         56.56                34.48   \nMachine Learning                      72.95                21.36   \n\n                            Not interested  \nBig Data (Spark / Hadoop)             5.69  \nData Analysis / Statistics            2.69  \nData Journalism                      27.32  \nData Visualization                    4.57  \nDeep Learning                         6.09  \nMachine Learning                      3.31  "
                    },
                    "execution_count": 12,
                    "metadata": {},
                    "output_type": "execute_result"
                }
            ],
            "source": "df.round(2)"
        },
        {
            "cell_type": "code",
            "execution_count": 13,
            "metadata": {},
            "outputs": [
                {
                    "data": {
                        "text/plain": "<Figure size 2000x800 with 1 Axes>"
                    },
                    "metadata": {},
                    "output_type": "display_data"
                }
            ],
            "source": "import matplotlib as mpl\nimport matplotlib.pyplot as plt\n\ndf.plot(kind='bar', figsize=(20,8), color=['#5cb85c','#5bc0de','#d9534f'])\nplt.title(\"Percent of Respondents' Interest in Data Science Areas\")\nplt.show()"
        },
        {
            "cell_type": "code",
            "execution_count": 14,
            "metadata": {},
            "outputs": [
                {
                    "data": {
                        "text/html": "<div>\n<style scoped>\n    .dataframe tbody tr th:only-of-type {\n        vertical-align: middle;\n    }\n\n    .dataframe tbody tr th {\n        vertical-align: top;\n    }\n\n    .dataframe thead th {\n        text-align: right;\n    }\n</style>\n<table border=\"1\" class=\"dataframe\">\n  <thead>\n    <tr style=\"text-align: right;\">\n      <th></th>\n      <th>IncidntNum</th>\n      <th>Category</th>\n      <th>Descript</th>\n      <th>DayOfWeek</th>\n      <th>Date</th>\n      <th>Time</th>\n      <th>PdDistrict</th>\n      <th>Resolution</th>\n      <th>Address</th>\n      <th>X</th>\n      <th>Y</th>\n      <th>Location</th>\n      <th>PdId</th>\n    </tr>\n  </thead>\n  <tbody>\n    <tr>\n      <th>0</th>\n      <td>120058272</td>\n      <td>WEAPON LAWS</td>\n      <td>POSS OF PROHIBITED WEAPON</td>\n      <td>Friday</td>\n      <td>01/29/2016 12:00:00 AM</td>\n      <td>11:00</td>\n      <td>SOUTHERN</td>\n      <td>ARREST, BOOKED</td>\n      <td>800 Block of BRYANT ST</td>\n      <td>-122.403405</td>\n      <td>37.775421</td>\n      <td>(37.775420706711, -122.403404791479)</td>\n      <td>12005827212120</td>\n    </tr>\n    <tr>\n      <th>1</th>\n      <td>120058272</td>\n      <td>WEAPON LAWS</td>\n      <td>FIREARM, LOADED, IN VEHICLE, POSSESSION OR USE</td>\n      <td>Friday</td>\n      <td>01/29/2016 12:00:00 AM</td>\n      <td>11:00</td>\n      <td>SOUTHERN</td>\n      <td>ARREST, BOOKED</td>\n      <td>800 Block of BRYANT ST</td>\n      <td>-122.403405</td>\n      <td>37.775421</td>\n      <td>(37.775420706711, -122.403404791479)</td>\n      <td>12005827212168</td>\n    </tr>\n    <tr>\n      <th>2</th>\n      <td>141059263</td>\n      <td>WARRANTS</td>\n      <td>WARRANT ARREST</td>\n      <td>Monday</td>\n      <td>04/25/2016 12:00:00 AM</td>\n      <td>14:59</td>\n      <td>BAYVIEW</td>\n      <td>ARREST, BOOKED</td>\n      <td>KEITH ST / SHAFTER AV</td>\n      <td>-122.388856</td>\n      <td>37.729981</td>\n      <td>(37.7299809672996, -122.388856204292)</td>\n      <td>14105926363010</td>\n    </tr>\n    <tr>\n      <th>3</th>\n      <td>160013662</td>\n      <td>NON-CRIMINAL</td>\n      <td>LOST PROPERTY</td>\n      <td>Tuesday</td>\n      <td>01/05/2016 12:00:00 AM</td>\n      <td>23:50</td>\n      <td>TENDERLOIN</td>\n      <td>NONE</td>\n      <td>JONES ST / OFARRELL ST</td>\n      <td>-122.412971</td>\n      <td>37.785788</td>\n      <td>(37.7857883766888, -122.412970537591)</td>\n      <td>16001366271000</td>\n    </tr>\n    <tr>\n      <th>4</th>\n      <td>160002740</td>\n      <td>NON-CRIMINAL</td>\n      <td>LOST PROPERTY</td>\n      <td>Friday</td>\n      <td>01/01/2016 12:00:00 AM</td>\n      <td>00:30</td>\n      <td>MISSION</td>\n      <td>NONE</td>\n      <td>16TH ST / MISSION ST</td>\n      <td>-122.419672</td>\n      <td>37.765050</td>\n      <td>(37.7650501214668, -122.419671780296)</td>\n      <td>16000274071000</td>\n    </tr>\n  </tbody>\n</table>\n</div>",
                        "text/plain": "   IncidntNum      Category                                        Descript  \\\n0   120058272   WEAPON LAWS                       POSS OF PROHIBITED WEAPON   \n1   120058272   WEAPON LAWS  FIREARM, LOADED, IN VEHICLE, POSSESSION OR USE   \n2   141059263      WARRANTS                                  WARRANT ARREST   \n3   160013662  NON-CRIMINAL                                   LOST PROPERTY   \n4   160002740  NON-CRIMINAL                                   LOST PROPERTY   \n\n  DayOfWeek                    Date   Time  PdDistrict      Resolution  \\\n0    Friday  01/29/2016 12:00:00 AM  11:00    SOUTHERN  ARREST, BOOKED   \n1    Friday  01/29/2016 12:00:00 AM  11:00    SOUTHERN  ARREST, BOOKED   \n2    Monday  04/25/2016 12:00:00 AM  14:59     BAYVIEW  ARREST, BOOKED   \n3   Tuesday  01/05/2016 12:00:00 AM  23:50  TENDERLOIN            NONE   \n4    Friday  01/01/2016 12:00:00 AM  00:30     MISSION            NONE   \n\n                  Address           X          Y  \\\n0  800 Block of BRYANT ST -122.403405  37.775421   \n1  800 Block of BRYANT ST -122.403405  37.775421   \n2   KEITH ST / SHAFTER AV -122.388856  37.729981   \n3  JONES ST / OFARRELL ST -122.412971  37.785788   \n4    16TH ST / MISSION ST -122.419672  37.765050   \n\n                                Location            PdId  \n0   (37.775420706711, -122.403404791479)  12005827212120  \n1   (37.775420706711, -122.403404791479)  12005827212168  \n2  (37.7299809672996, -122.388856204292)  14105926363010  \n3  (37.7857883766888, -122.412970537591)  16001366271000  \n4  (37.7650501214668, -122.419671780296)  16000274071000  "
                    },
                    "execution_count": 14,
                    "metadata": {},
                    "output_type": "execute_result"
                }
            ],
            "source": "\nbody =client_5d3dc57f161b413db84455d2374b5b67.get_object(Bucket='datascienceproject7-donotdelete-pr-bs7qbynmegfsow',Key='Police_Department_Incidents_-_Previous_Year__2016_.csv')['Body']\n# add missing __iter__ method, so pandas accepts body as file-like object\nif not hasattr(body, \"__iter__\"): body.__iter__ = types.MethodType( __iter__, body )\n\ndf_data_2 = pd.read_csv(body)\ndf_data_2.head()\n"
        },
        {
            "cell_type": "code",
            "execution_count": 15,
            "metadata": {},
            "outputs": [],
            "source": "df_data_2= df_data_2['PdDistrict'].value_counts().rename_axis('Neighborhood').reset_index(name='Count')\n"
        },
        {
            "cell_type": "code",
            "execution_count": 16,
            "metadata": {},
            "outputs": [
                {
                    "data": {
                        "text/html": "<div>\n<style scoped>\n    .dataframe tbody tr th:only-of-type {\n        vertical-align: middle;\n    }\n\n    .dataframe tbody tr th {\n        vertical-align: top;\n    }\n\n    .dataframe thead th {\n        text-align: right;\n    }\n</style>\n<table border=\"1\" class=\"dataframe\">\n  <thead>\n    <tr style=\"text-align: right;\">\n      <th></th>\n      <th>Neighborhood</th>\n      <th>Count</th>\n    </tr>\n  </thead>\n  <tbody>\n    <tr>\n      <th>0</th>\n      <td>SOUTHERN</td>\n      <td>28445</td>\n    </tr>\n    <tr>\n      <th>1</th>\n      <td>NORTHERN</td>\n      <td>20100</td>\n    </tr>\n    <tr>\n      <th>2</th>\n      <td>MISSION</td>\n      <td>19503</td>\n    </tr>\n    <tr>\n      <th>3</th>\n      <td>CENTRAL</td>\n      <td>17666</td>\n    </tr>\n    <tr>\n      <th>4</th>\n      <td>BAYVIEW</td>\n      <td>14303</td>\n    </tr>\n    <tr>\n      <th>5</th>\n      <td>INGLESIDE</td>\n      <td>11594</td>\n    </tr>\n    <tr>\n      <th>6</th>\n      <td>TARAVAL</td>\n      <td>11325</td>\n    </tr>\n    <tr>\n      <th>7</th>\n      <td>TENDERLOIN</td>\n      <td>9942</td>\n    </tr>\n    <tr>\n      <th>8</th>\n      <td>RICHMOND</td>\n      <td>8922</td>\n    </tr>\n    <tr>\n      <th>9</th>\n      <td>PARK</td>\n      <td>8699</td>\n    </tr>\n  </tbody>\n</table>\n</div>",
                        "text/plain": "  Neighborhood  Count\n0     SOUTHERN  28445\n1     NORTHERN  20100\n2      MISSION  19503\n3      CENTRAL  17666\n4      BAYVIEW  14303\n5    INGLESIDE  11594\n6      TARAVAL  11325\n7   TENDERLOIN   9942\n8     RICHMOND   8922\n9         PARK   8699"
                    },
                    "execution_count": 16,
                    "metadata": {},
                    "output_type": "execute_result"
                }
            ],
            "source": "df_data_2.head(10)"
        },
        {
            "cell_type": "code",
            "execution_count": 45,
            "metadata": {},
            "outputs": [
                {
                    "ename": "SyntaxError",
                    "evalue": "invalid syntax (<ipython-input-45-b3c59947df36>, line 1)",
                    "output_type": "error",
                    "traceback": [
                        "\u001b[0;36m  File \u001b[0;32m\"<ipython-input-45-b3c59947df36>\"\u001b[0;36m, line \u001b[0;32m1\u001b[0m\n\u001b[0;31m    pd.read_json( https://cocl.us/sanfran_geojson)\u001b[0m\n\u001b[0m                       ^\u001b[0m\n\u001b[0;31mSyntaxError\u001b[0m\u001b[0;31m:\u001b[0m invalid syntax\n"
                    ]
                }
            ],
            "source": "pd.read_json( https://cocl.us/sanfran_geojson)"
        },
        {
            "cell_type": "code",
            "execution_count": 49,
            "metadata": {},
            "outputs": [],
            "source": "\nbody = client_5d3dc57f161b413db84455d2374b5b67.get_object(Bucket='datascienceproject7-donotdelete-pr-bs7qbynmegfsow',Key='san-francisco.json')['Body']\n# add missing __iter__ method, so pandas accepts body as file-like object \n\nif not hasattr(body, \"__iter__\"): body.__iter__ = types.MethodType( __iter__, body )\n\n# Since JSON data can be semi-structured and contain additional metadata, it is possible that you might face an error during data loading.\n# Please read the documentation of 'pandas.read_json()' and 'pandas.io.json.json_normalize' to learn more about the possibilities to adjust the data loading.\n# pandas documentation: http://pandas.pydata.org/pandas-docs/stable/io.html#io-json-reader\n# and http://pandas.pydata.org/pandas-docs/stable/generated/pandas.io.json.json_normalize.html\n\n"
        },
        {
            "cell_type": "code",
            "execution_count": 51,
            "metadata": {},
            "outputs": [
                {
                    "ename": "FileNotFoundError",
                    "evalue": "[Errno 2] No such file or directory: 'san-francisco.json'",
                    "output_type": "error",
                    "traceback": [
                        "\u001b[0;31m---------------------------------------------------------------------------\u001b[0m",
                        "\u001b[0;31mFileNotFoundError\u001b[0m                         Traceback (most recent call last)",
                        "\u001b[0;32m<ipython-input-51-ed481e9994fd>\u001b[0m in \u001b[0;36m<module>\u001b[0;34m\u001b[0m\n\u001b[1;32m      1\u001b[0m \u001b[0;32mimport\u001b[0m \u001b[0mjson\u001b[0m\u001b[0;34m\u001b[0m\u001b[0;34m\u001b[0m\u001b[0m\n\u001b[0;32m----> 2\u001b[0;31m \u001b[0;32mwith\u001b[0m \u001b[0mopen\u001b[0m\u001b[0;34m(\u001b[0m\u001b[0;34m'san-francisco.json'\u001b[0m\u001b[0;34m,\u001b[0m \u001b[0;34m\"r\"\u001b[0m\u001b[0;34m)\u001b[0m \u001b[0;32mas\u001b[0m \u001b[0mread_file\u001b[0m\u001b[0;34m:\u001b[0m\u001b[0;34m\u001b[0m\u001b[0;34m\u001b[0m\u001b[0m\n\u001b[0m\u001b[1;32m      3\u001b[0m     \u001b[0mdata_file_4\u001b[0m\u001b[0;34m=\u001b[0m \u001b[0mjson\u001b[0m\u001b[0;34m.\u001b[0m\u001b[0mload\u001b[0m\u001b[0;34m(\u001b[0m\u001b[0mread_file\u001b[0m\u001b[0;34m)\u001b[0m\u001b[0;34m\u001b[0m\u001b[0;34m\u001b[0m\u001b[0m\n",
                        "\u001b[0;31mFileNotFoundError\u001b[0m: [Errno 2] No such file or directory: 'san-francisco.json'"
                    ]
                }
            ],
            "source": "import json\nwith open('san-francisco.json', \"r\") as read_file:\n    data_file_4= json.load(read_file)"
        },
        {
            "cell_type": "code",
            "execution_count": 37,
            "metadata": {},
            "outputs": [
                {
                    "name": "stdout",
                    "output_type": "stream",
                    "text": "GeoJSON file downloaded!\n"
                }
            ],
            "source": "!wget --quiet https://cocl.us/sanfran_geojson.json -O sanfran_geojson.json\n    \nprint('GeoJSON file downloaded!')\n"
        },
        {
            "cell_type": "code",
            "execution_count": 35,
            "metadata": {},
            "outputs": [],
            "source": "san_fran_map=r'sanfran_geojson.json'"
        },
        {
            "cell_type": "code",
            "execution_count": 4,
            "metadata": {},
            "outputs": [
                {
                    "name": "stdout",
                    "output_type": "stream",
                    "text": "Solving environment: done\n\n## Package Plan ##\n\n  environment location: /opt/conda/envs/Python36\n\n  added / updated specs: \n    - folium=0.5.0\n\n\nThe following packages will be downloaded:\n\n    package                    |            build\n    ---------------------------|-----------------\n    openssl-1.1.1g             |       h516909a_0         2.1 MB  conda-forge\n    folium-0.5.0               |             py_0          45 KB  conda-forge\n    certifi-2020.4.5.2         |   py36h9f0ad1d_0         152 KB  conda-forge\n    vincent-0.4.4              |             py_1          28 KB  conda-forge\n    branca-0.4.1               |             py_0          26 KB  conda-forge\n    python_abi-3.6             |          1_cp36m           4 KB  conda-forge\n    ca-certificates-2020.4.5.2 |       hecda079_0         147 KB  conda-forge\n    altair-4.1.0               |             py_1         614 KB  conda-forge\n    ------------------------------------------------------------\n                                           Total:         3.1 MB\n\nThe following NEW packages will be INSTALLED:\n\n    altair:          4.1.0-py_1        conda-forge\n    branca:          0.4.1-py_0        conda-forge\n    folium:          0.5.0-py_0        conda-forge\n    python_abi:      3.6-1_cp36m       conda-forge\n    vincent:         0.4.4-py_1        conda-forge\n\nThe following packages will be UPDATED:\n\n    ca-certificates: 2020.1.1-0                    --> 2020.4.5.2-hecda079_0     conda-forge\n    certifi:         2020.4.5.1-py36_0             --> 2020.4.5.2-py36h9f0ad1d_0 conda-forge\n    openssl:         1.1.1g-h7b6447c_0             --> 1.1.1g-h516909a_0         conda-forge\n\n\nDownloading and Extracting Packages\nopenssl-1.1.1g       | 2.1 MB    | ##################################### | 100% \nfolium-0.5.0         | 45 KB     | ##################################### | 100% \ncertifi-2020.4.5.2   | 152 KB    | ##################################### | 100% \nvincent-0.4.4        | 28 KB     | ##################################### | 100% \nbranca-0.4.1         | 26 KB     | ##################################### | 100% \npython_abi-3.6       | 4 KB      | ##################################### | 100% \nca-certificates-2020 | 147 KB    | ##################################### | 100% \naltair-4.1.0         | 614 KB    | ##################################### | 100% \nPreparing transaction: done\nVerifying transaction: done\nExecuting transaction: done\n"
                }
            ],
            "source": "!conda install -c conda-forge folium=0.5.0 --yes"
        },
        {
            "cell_type": "code",
            "execution_count": 19,
            "metadata": {},
            "outputs": [],
            "source": "import folium"
        },
        {
            "cell_type": "code",
            "execution_count": 31,
            "metadata": {},
            "outputs": [],
            "source": "world_map = folium.Map(location=[37.7749, 122.4194], zoom_start=12, tiles='Mapbox Bright')"
        },
        {
            "cell_type": "code",
            "execution_count": 32,
            "metadata": {},
            "outputs": [
                {
                    "data": {
                        "text/html": "<div>\n<style scoped>\n    .dataframe tbody tr th:only-of-type {\n        vertical-align: middle;\n    }\n\n    .dataframe tbody tr th {\n        vertical-align: top;\n    }\n\n    .dataframe thead th {\n        text-align: right;\n    }\n</style>\n<table border=\"1\" class=\"dataframe\">\n  <thead>\n    <tr style=\"text-align: right;\">\n      <th></th>\n      <th>Neighborhood</th>\n      <th>Count</th>\n    </tr>\n  </thead>\n  <tbody>\n    <tr>\n      <th>0</th>\n      <td>SOUTHERN</td>\n      <td>28445</td>\n    </tr>\n    <tr>\n      <th>1</th>\n      <td>NORTHERN</td>\n      <td>20100</td>\n    </tr>\n    <tr>\n      <th>2</th>\n      <td>MISSION</td>\n      <td>19503</td>\n    </tr>\n    <tr>\n      <th>3</th>\n      <td>CENTRAL</td>\n      <td>17666</td>\n    </tr>\n    <tr>\n      <th>4</th>\n      <td>BAYVIEW</td>\n      <td>14303</td>\n    </tr>\n  </tbody>\n</table>\n</div>",
                        "text/plain": "  Neighborhood  Count\n0     SOUTHERN  28445\n1     NORTHERN  20100\n2      MISSION  19503\n3      CENTRAL  17666\n4      BAYVIEW  14303"
                    },
                    "execution_count": 32,
                    "metadata": {},
                    "output_type": "execute_result"
                }
            ],
            "source": "df_data_2.head()"
        },
        {
            "cell_type": "code",
            "execution_count": 42,
            "metadata": {},
            "outputs": [
                {
                    "ename": "NameError",
                    "evalue": "name 'df_data_3' is not defined",
                    "output_type": "error",
                    "traceback": [
                        "\u001b[0;31m---------------------------------------------------------------------------\u001b[0m",
                        "\u001b[0;31mNameError\u001b[0m                                 Traceback (most recent call last)",
                        "\u001b[0;32m<ipython-input-42-05bc771a2879>\u001b[0m in \u001b[0;36m<module>\u001b[0;34m\u001b[0m\n\u001b[0;32m----> 1\u001b[0;31m \u001b[0mworld_map\u001b[0m\u001b[0;34m.\u001b[0m\u001b[0mchoropleth\u001b[0m\u001b[0;34m(\u001b[0m\u001b[0mgeo_data\u001b[0m\u001b[0;34m=\u001b[0m\u001b[0mdf_data_3\u001b[0m\u001b[0;34m,\u001b[0m \u001b[0mdata\u001b[0m\u001b[0;34m=\u001b[0m\u001b[0mdf_data_2\u001b[0m\u001b[0;34m,\u001b[0m \u001b[0mcolumns\u001b[0m\u001b[0;34m=\u001b[0m\u001b[0;34m[\u001b[0m\u001b[0;34m'Neighborhood'\u001b[0m\u001b[0;34m,\u001b[0m \u001b[0;34m'Count'\u001b[0m\u001b[0;34m]\u001b[0m\u001b[0;34m,\u001b[0m \u001b[0mkey_on\u001b[0m\u001b[0;34m=\u001b[0m\u001b[0;34m'feature.properties.name'\u001b[0m\u001b[0;34m,\u001b[0m \u001b[0mfill_color\u001b[0m\u001b[0;34m=\u001b[0m\u001b[0;34m'YlOrRd'\u001b[0m\u001b[0;34m,\u001b[0m \u001b[0mfill_opacity\u001b[0m \u001b[0;34m=\u001b[0m \u001b[0;36m0.7\u001b[0m\u001b[0;34m,\u001b[0m \u001b[0mline_opacity\u001b[0m\u001b[0;34m=\u001b[0m\u001b[0;36m0.2\u001b[0m\u001b[0;34m,\u001b[0m \u001b[0mlegend_name\u001b[0m\u001b[0;34m=\u001b[0m\u001b[0;34m'Crime Rate in San Francisco'\u001b[0m\u001b[0;34m,\u001b[0m \u001b[0msmooth_factor\u001b[0m\u001b[0;34m=\u001b[0m\u001b[0;36m0\u001b[0m\u001b[0;34m)\u001b[0m\u001b[0;34m\u001b[0m\u001b[0;34m\u001b[0m\u001b[0m\n\u001b[0m",
                        "\u001b[0;31mNameError\u001b[0m: name 'df_data_3' is not defined"
                    ]
                }
            ],
            "source": "world_map.choropleth(geo_data=df_data_3, data=df_data_2, columns=['Neighborhood', 'Count'], key_on='feature.properties.name', fill_color='YlOrRd', fill_opacity = 0.7, line_opacity=0.2, legend_name='Crime Rate in San Francisco', smooth_factor=0)"
        },
        {
            "cell_type": "code",
            "execution_count": null,
            "metadata": {},
            "outputs": [],
            "source": ""
        }
    ],
    "metadata": {
        "kernelspec": {
            "display_name": "Python 3.6",
            "language": "python",
            "name": "python3"
        },
        "language_info": {
            "codemirror_mode": {
                "name": "ipython",
                "version": 3
            },
            "file_extension": ".py",
            "mimetype": "text/x-python",
            "name": "python",
            "nbconvert_exporter": "python",
            "pygments_lexer": "ipython3",
            "version": "3.6.9"
        }
    },
    "nbformat": 4,
    "nbformat_minor": 1
}